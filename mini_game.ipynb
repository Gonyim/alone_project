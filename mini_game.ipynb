{
  "nbformat": 4,
  "nbformat_minor": 0,
  "metadata": {
    "colab": {
      "provenance": [],
      "authorship_tag": "ABX9TyNfla5TvSOxagSCgEzcRMPb",
      "include_colab_link": true
    },
    "kernelspec": {
      "name": "python3",
      "display_name": "Python 3"
    },
    "language_info": {
      "name": "python"
    }
  },
  "cells": [
    {
      "cell_type": "markdown",
      "metadata": {
        "id": "view-in-github",
        "colab_type": "text"
      },
      "source": [
        "<a href=\"https://colab.research.google.com/github/Gonyim/alone_project/blob/master/mini_game.ipynb\" target=\"_parent\"><img src=\"https://colab.research.google.com/assets/colab-badge.svg\" alt=\"Open In Colab\"/></a>"
      ]
    },
    {
      "cell_type": "markdown",
      "source": [
        "# 미니게임 만들어보기"
      ],
      "metadata": {
        "id": "2yXD9eW4sbBD"
      }
    },
    {
      "cell_type": "code",
      "execution_count": 4,
      "metadata": {
        "colab": {
          "base_uri": "https://localhost:8080/"
        },
        "id": "IFm9mKVlsX8U",
        "outputId": "4a03f39f-7702-40ad-8389-c39689e34dcb"
      },
      "outputs": [
        {
          "output_type": "stream",
          "name": "stdout",
          "text": [
            "가위바위보 게임을 시작합니다.\n",
            "1: 가위, 2: 바위, 3: 보\n",
            "선택하세요 (1-3): 1\n",
            "비겼습니다!\n"
          ]
        }
      ],
      "source": [
        "# 가위바위보 게임\n",
        "\n",
        "import random\n",
        "\n",
        "print(\"가위바위보 게임을 시작합니다.\")\n",
        "print(\"1: 가위, 2: 바위, 3: 보\")\n",
        "\n",
        "user_choice = int(input(\"선택하세요 (1-3): \"))\n",
        "computer_choice = random.randint(1, 3)\n",
        "\n",
        "if user_choice == computer_choice:\n",
        "    print(\"비겼습니다!\")\n",
        "elif user_choice == 1 and computer_choice == 2:\n",
        "    print(\"컴퓨터가 이겼습니다!\")\n",
        "elif user_choice == 2 and computer_choice == 3:\n",
        "    print(\"컴퓨터가 이겼습니다!\")\n",
        "elif user_choice == 3 and computer_choice == 1:\n",
        "    print(\"컴퓨터가 이겼습니다!\")\n",
        "else:\n",
        "    print(\"당신이 이겼습니다!\")"
      ]
    }
  ]
}