{
  "nbformat": 4,
  "nbformat_minor": 0,
  "metadata": {
    "colab": {
      "provenance": [],
      "authorship_tag": "ABX9TyNvHpjRlt9HWy823Kph96/u",
      "include_colab_link": true
    },
    "kernelspec": {
      "name": "python3",
      "display_name": "Python 3"
    },
    "language_info": {
      "name": "python"
    }
  },
  "cells": [
    {
      "cell_type": "markdown",
      "metadata": {
        "id": "view-in-github",
        "colab_type": "text"
      },
      "source": [
        "<a href=\"https://colab.research.google.com/github/Gonyim/alone_project/blob/master/mini_game.ipynb\" target=\"_parent\"><img src=\"https://colab.research.google.com/assets/colab-badge.svg\" alt=\"Open In Colab\"/></a>"
      ]
    },
    {
      "cell_type": "markdown",
      "source": [
        "# 미니게임 만들어보기"
      ],
      "metadata": {
        "id": "2yXD9eW4sbBD"
      }
    },
    {
      "cell_type": "code",
      "execution_count": null,
      "metadata": {
        "id": "IFm9mKVlsX8U"
      },
      "outputs": [],
      "source": [
        "# 가위바위보 게임\n",
        "\n",
        "import random\n",
        "\n",
        "print(\"가위바위보 게임을 시작합니다.\")\n",
        "print(\"1: 가위, 2: 바위, 3: 보\")\n",
        "\n",
        "user_choice = int(input(\"선택하세요 (1-3): \"))\n",
        "computer_choice = random.randint(1, 3)\n",
        "\n",
        "if user_choice == computer_choice:\n",
        "    print(\"비겼습니다!\")\n",
        "elif user_choice == 1 and computer_choice == 2:\n",
        "    print(\"컴퓨터가 이겼습니다!\")\n",
        "elif user_choice == 2 and computer_choice == 3:\n",
        "    print(\"컴퓨터가 이겼습니다!\")\n",
        "elif user_choice == 3 and computer_choice == 1:\n",
        "    print(\"컴퓨터가 이겼습니다!\")\n",
        "else:\n",
        "    print(\"당신이 이겼습니다!\")"
      ]
    },
    {
      "cell_type": "code",
      "source": [
        "# 수정버전1\n",
        "import random\n",
        "\n",
        "print(\"가위바위보 게임 숫자로 입력해주세요\")\n",
        "print(\"1: 가위, 2: 바위, 3: 보\")\n",
        "\n",
        "user_choice = int(input(\"선택하세요 1-3): \"))\n",
        "if user_choice not in [1, 2, 3]:\n",
        "    print(\"1, 2, 3중 입력해주세요\")\n",
        "    user_choice = int(input(\"선택하세요 1-3): \"))\n",
        "else:\n",
        "    computer_choice = random.randint(1, 3)\n",
        "\n",
        "    if user_choice == computer_choice:\n",
        "        print(\"비김\")\n",
        "    elif user_choice == 1 and computer_choi1ce == 2:\n",
        "        print(\"컴퓨터가 이겼습니다!\")\n",
        "    elif user_choice == 2 and computer_choice == 3:\n",
        "        print(\"컴퓨터가 이겼습니다!\")\n",
        "    elif user_choice == 3 and computer_choice == 1:\n",
        "        print(\"컴퓨터가 이겼습니다!\")\n",
        "    else:\n",
        "        print(\"당신이 이겼습니다\")"
      ],
      "metadata": {
        "colab": {
          "base_uri": "https://localhost:8080/"
        },
        "id": "3Y_K0pL3GcaY",
        "outputId": "a2577bd5-caad-47f7-c5db-1a72c8fb340f"
      },
      "execution_count": null,
      "outputs": [
        {
          "name": "stdout",
          "output_type": "stream",
          "text": [
            "가위바위보 게임 숫자로 입력해주세요\n",
            "1: 가위, 2: 바위, 3: 보\n",
            "선택하세요 1-3): 5\n",
            "1, 2, 3중 입력해주세요\n",
            "선택하세요 1-3): 4\n"
          ]
        }
      ]
    },
    {
      "cell_type": "code",
      "source": [
        "#수정버전 2\n",
        "import random\n",
        "\n",
        "print(\"가위바위보 게임 숫자로 입력해주세요\")\n",
        "print(\"1: 가위, 2: 바위, 3: 보\")\n",
        "\n",
        "while True:\n",
        "    user_choice = input(\"선택하세요 (1-3): \")\n",
        "    if user_choice in [\"1\", \"2\", \"3\"]:\n",
        "        user_choice = int(user_choice)\n",
        "        break\n",
        "    else:\n",
        "        print(\"1, 2, 3 중 입력해주세요\")\n",
        "\n",
        "computer_choice = random.randint(1, 3)\n",
        "\n",
        "if user_choice == computer_choice:\n",
        "    print(\"비김\")\n",
        "elif user_choice == 1 and computer_choice == 2:\n",
        "    print(\"컴퓨터가 이겼습니다!\")\n",
        "elif user_choice == 2 and computer_choice == 3:\n",
        "    print(\"컴퓨터가 이겼습니다!\")\n",
        "elif user_choice == 3 and computer_choice == 1:\n",
        "    print(\"컴퓨터가 이겼습니다!\")\n",
        "else:\n",
        "    print(\"당신이 이겼습니다\")\n"
      ],
      "metadata": {
        "colab": {
          "base_uri": "https://localhost:8080/"
        },
        "id": "cFsbuSGyacZI",
        "outputId": "0bf09b1e-c9ab-4e56-d1f5-5439c94aa39a"
      },
      "execution_count": null,
      "outputs": [
        {
          "name": "stdout",
          "output_type": "stream",
          "text": [
            "가위바위보 게임 숫자로 입력해주세요\n",
            "1: 가위, 2: 바위, 3: 보\n",
            "1, 2, 3 중 입력해주세요\n",
            "1, 2, 3 중 입력해주세요\n",
            "1, 2, 3 중 입력해주세요\n",
            "선택하세요 (1-3): 10\n"
          ]
        }
      ]
    }
  ]
}